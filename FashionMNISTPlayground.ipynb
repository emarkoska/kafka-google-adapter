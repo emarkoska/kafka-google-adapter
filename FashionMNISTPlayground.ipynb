{
  "nbformat": 4,
  "nbformat_minor": 0,
  "metadata": {
    "colab": {
      "name": "FashionMNISTPlayground.ipynb",
      "provenance": [],
      "collapsed_sections": []
    },
    "kernelspec": {
      "name": "python3",
      "display_name": "Python 3"
    }
  },
  "cells": [
    {
      "cell_type": "markdown",
      "metadata": {
        "id": "Nk8yyQmJq_7k",
        "colab_type": "text"
      },
      "source": [
        "# Fashion MNIST exploration and classificator development\n",
        "Elena Markoska\n",
        "\n",
        "For this exercise we're going to use the Fashion MNIST dataset. Essentially it is a collection of images of a variety of clothing items, accessories, and shoes. They are classified in 10 classes.\n",
        "\n",
        "In this notebook, we're going to load the dataset, explore the data a little bit, preprocess the data, develop a deep neural network based on convolutional layers for a classifier, evaluate the classifier, and write some code to make predictions on single values.\n",
        "\n",
        "The code in this notebook is afterwards transferred to a python module that can be afterwards imported for future usage.\n",
        "\n",
        "First, we're going to import all the necessary libraries we're going to need."
      ]
    },
    {
      "cell_type": "code",
      "metadata": {
        "id": "wM2rOiNurA1w",
        "colab_type": "code",
        "colab": {}
      },
      "source": [
        "import numpy as np\n",
        "import pandas as pd\n",
        "import matplotlib.pyplot as plt\n",
        "import seaborn as sns\n",
        "from keras.utils.np_utils import to_categorical \n",
        "from sklearn.model_selection import train_test_split\n",
        "\n",
        "import warnings\n",
        "warnings.filterwarnings('ignore')\n",
        "\n",
        "\n",
        "from sklearn.metrics import confusion_matrix\n",
        "from keras.models import Sequential, model_from_json\n",
        "from keras.layers import Dense, Conv2D, Activation, MaxPool2D, Flatten, Dropout, BatchNormalization\n",
        "from keras.optimizers import RMSprop,Adam\n",
        "from keras.preprocessing import image\n",
        "from keras.preprocessing.image import ImageDataGenerator\n",
        "from keras.callbacks import ModelCheckpoint\n",
        "\n",
        "#import sys\n",
        "#!{sys.executable} -m pip install tensorflow"
      ],
      "execution_count": 0,
      "outputs": []
    },
    {
      "cell_type": "markdown",
      "metadata": {
        "id": "SGHv4OnQq-cw",
        "colab_type": "text"
      },
      "source": [
        "The data for the Fashion MNIST dataset has been obtained from its [Github repository](https://www.kaggle.com/orhansertkaya/convolutional-neural-network-cnn-fashion-mnist) where it can be found in .gz files. We use the following function provided in the same repository.\n"
      ]
    },
    {
      "cell_type": "code",
      "metadata": {
        "id": "Tkys4bM9NbAW",
        "colab_type": "code",
        "colab": {}
      },
      "source": [
        "def load_mnist(path, kind):\n",
        "    import os\n",
        "    import gzip\n",
        "    import numpy as np\n",
        "\n",
        "    labels_path = os.path.join(path,\n",
        "                               '%s-labels-idx1-ubyte.gz'\n",
        "                               % kind)\n",
        "    images_path = os.path.join(path,\n",
        "                               '%s-images-idx3-ubyte.gz'\n",
        "                               % kind)\n",
        "\n",
        "    with gzip.open(labels_path, 'rb') as lbpath:\n",
        "        labels = np.frombuffer(lbpath.read(), dtype=np.uint8,\n",
        "                               offset=8)\n",
        "\n",
        "    with gzip.open(images_path, 'rb') as imgpath:\n",
        "        images = np.frombuffer(imgpath.read(), dtype=np.uint8,\n",
        "                               offset=16).reshape(len(labels), 784)\n",
        "\n",
        "    return images, labels"
      ],
      "execution_count": 0,
      "outputs": []
    },
    {
      "cell_type": "markdown",
      "metadata": {
        "id": "gk52pSv8uob9",
        "colab_type": "text"
      },
      "source": [
        "Next, we're going to import the data into training set and test set."
      ]
    },
    {
      "cell_type": "code",
      "metadata": {
        "id": "jMDmJZUWNrHX",
        "colab_type": "code",
        "colab": {}
      },
      "source": [
        "X_train, y_train = load_mnist('/content/', kind='train')\n",
        "X_test, y_test = load_mnist('/content/', kind='t10k')"
      ],
      "execution_count": 0,
      "outputs": []
    },
    {
      "cell_type": "markdown",
      "metadata": {
        "id": "Rcy_TIbr4NFx",
        "colab_type": "text"
      },
      "source": [
        "Let's have a look at one image just to get a feeling for what they are like."
      ]
    },
    {
      "cell_type": "code",
      "metadata": {
        "id": "jkGVafwF4K5p",
        "colab_type": "code",
        "colab": {
          "base_uri": "https://localhost:8080/",
          "height": 265
        },
        "outputId": "18376609-4027-4702-bd0d-fd65ebe09d55"
      },
      "source": [
        "print(X_test.shape)\n",
        "plt.imshow(X_test[101].reshape(28,28),cmap=\"gray\")\n",
        "plt.axis(\"off\")\n",
        "plt.show()"
      ],
      "execution_count": 20,
      "outputs": [
        {
          "output_type": "stream",
          "text": [
            "(10000, 28, 28, 1)\n"
          ],
          "name": "stdout"
        },
        {
          "output_type": "display_data",
          "data": {
            "image/png": "[encoded data removed]",
            "text/plain": [
              "<Figure size 432x288 with 1 Axes>"
            ]
          },
          "metadata": {
            "tags": [],
            "needs_background": "light"
          }
        }
      ]
    },
    {
      "cell_type": "markdown",
      "metadata": {
        "id": "3sdat0u6u0A6",
        "colab_type": "text"
      },
      "source": [
        "To verify wherher we have a balanced classification problem or imbalanced, we'll have a look at the distribution between the classes in the training set. It seems the dataset is perfectly balanced. This makes it easier for us to train a classifier."
      ]
    },
    {
      "cell_type": "code",
      "metadata": {
        "id": "myWQ0niFNrRD",
        "colab_type": "code",
        "colab": {
          "base_uri": "https://localhost:8080/",
          "height": 499
        },
        "outputId": "54d17bce-f1d6-40f7-eef3-9db3d154c36b"
      },
      "source": [
        "plt.figure(figsize=(14,8))\n",
        "sns.countplot(y_train)\n",
        "plt.title(\"Number of classes\")\n",
        "plt.show()"
      ],
      "execution_count": 5,
      "outputs": [
        {
          "output_type": "display_data",
          "data": {
            "image/png": "[encoded data removed]",
            "text/plain": [
              "<Figure size 1008x576 with 1 Axes>"
            ]
          },
          "metadata": {
            "tags": [],
            "needs_background": "light"
          }
        }
      ]
    },
    {
      "cell_type": "markdown",
      "metadata": {
        "id": "agNFXrMhuzY-",
        "colab_type": "text"
      },
      "source": [
        "As per the suggestion of a [kaggle kernel](https://www.kaggle.com/orhansertkaya/convolutional-neural-network-cnn-fashion-mnist), we're going to do some normalisation on the data. That is, we'll do a grayscale normalisation to reduce the effect of differences in illumination. Convolutional neural networks are also faster on normalised data.\n",
        "\n",
        "Next, we're going to reshape the datasets. The images will be transformed into 28x28 and all the data will be reshaped into 28x28x1 matrices. The 1 in the 3D matrix corresponds to the one channel as the images are gray scaled.\n",
        "\n",
        "Finally, we're going to encode the labels into one-hot vectors instead of integers."
      ]
    },
    {
      "cell_type": "code",
      "metadata": {
        "id": "GwqEOgAWNrXQ",
        "colab_type": "code",
        "colab": {
          "base_uri": "https://localhost:8080/",
          "height": 51
        },
        "outputId": "aee4e4da-0f70-4106-aa10-60965767269b"
      },
      "source": [
        "X_train = X_train / 255.0\n",
        "X_test = X_test / 255.0\n",
        "X_train = X_train.reshape(-1,28,28,1)\n",
        "X_test = X_test.reshape(-1,28,28,1)\n",
        "print(\"X_train shape: \",X_train.shape)\n",
        "print(\"X_test shape: \",X_test.shape)"
      ],
      "execution_count": 13,
      "outputs": [
        {
          "output_type": "stream",
          "text": [
            "X_train shape:  (60000, 28, 28, 1)\n",
            "X_test shape:  (10000, 28, 28, 1)\n"
          ],
          "name": "stdout"
        }
      ]
    },
    {
      "cell_type": "code",
      "metadata": {
        "id": "L4GlxtEBNrU7",
        "colab_type": "code",
        "colab": {}
      },
      "source": [
        "# convert to one-hot-encoding(one hot vectors)\n",
        "y_train = to_categorical(y_train, num_classes = 10)\n",
        "# convert to one-hot-encoding(one hot vectors)\n",
        "y_test = to_categorical(y_test, num_classes = 10)"
      ],
      "execution_count": 0,
      "outputs": []
    },
    {
      "cell_type": "code",
      "metadata": {
        "id": "rvgIbsmkNvyF",
        "colab_type": "code",
        "colab": {
          "base_uri": "https://localhost:8080/",
          "height": 51
        },
        "outputId": "cad00604-6f7d-43b9-eb96-25a643cc5ddd"
      },
      "source": [
        "print(y_train.shape)\n",
        "print(y_test.shape)"
      ],
      "execution_count": 8,
      "outputs": [
        {
          "output_type": "stream",
          "text": [
            "(60000, 10)\n",
            "(10000, 10)\n"
          ],
          "name": "stdout"
        }
      ]
    },
    {
      "cell_type": "markdown",
      "metadata": {
        "id": "C55T1PkNvsvG",
        "colab_type": "text"
      },
      "source": [
        "After our preprocessing is done, we're going to split the dataset into a training and a validation set. We're going to use the training set for this, and leave the initial test set untouched.\n",
        "\n",
        "The arthicture of the model is as follows. Two convolutional layers followed by a fully connected layer. We're using a Dropout layer, too, to reduce the chance of overfitting. Finally we're using the softmax activation function which will give a probability of an input image being any of the 10 classes."
      ]
    },
    {
      "cell_type": "code",
      "metadata": {
        "id": "DEXnvaJRNxHU",
        "colab_type": "code",
        "colab": {}
      },
      "source": [
        "x_train, x_val, y_train, y_val = train_test_split(X_train, y_train, test_size = 0.1, random_state = 2)"
      ],
      "execution_count": 0,
      "outputs": []
    },
    {
      "cell_type": "code",
      "metadata": {
        "id": "kqR5dT8tNyHX",
        "colab_type": "code",
        "colab": {}
      },
      "source": [
        "model = Sequential()\n",
        "\n",
        "#1. LAYER\n",
        "model.add(Conv2D(filters = 32, kernel_size = (3,3), padding = 'Same', input_shape=(28, 28, 1)))\n",
        "model.add(BatchNormalization())\n",
        "model.add(Activation(\"relu\"))\n",
        "\n",
        "model.add(MaxPool2D(pool_size=(2, 2)))\n",
        "\n",
        "#3. LAYER\n",
        "model.add(Conv2D(filters = 64, kernel_size = (3,3), padding = 'Same'))\n",
        "model.add(BatchNormalization())\n",
        "model.add(Activation(\"relu\"))\n",
        "\n",
        "model.add(MaxPool2D(pool_size=(2, 2)))\n",
        "\n",
        "#FULLY CONNECTED LAYER\n",
        "model.add(Flatten())\n",
        "model.add(Dense(256))\n",
        "model.add(BatchNormalization())\n",
        "model.add(Activation(\"relu\"))\n",
        "model.add(Dropout(0.25))\n",
        "\n",
        "#OUTPUT LAYER\n",
        "model.add(Dense(10, activation='softmax'))\n"
      ],
      "execution_count": 0,
      "outputs": []
    },
    {
      "cell_type": "markdown",
      "metadata": {
        "id": "Pio2l_jhzh2s",
        "colab_type": "text"
      },
      "source": [
        "We're going to use the Adam optimiser as it's generally a good choice, and categorical crossentropy as we have a multi-classification problem.\n",
        "We're going to train on 50 epochs with a batch size of 1000. The epochs were chosen arbitrarily, while the batch size was deliberately chosen to be larger to reduce training time. Lastly, we're going to do some data augmentation as per the example of the aforementioned kaggle kernel.\n",
        "\n",
        "Afterwards, we're going to fit/train the model."
      ]
    },
    {
      "cell_type": "code",
      "metadata": {
        "id": "UGtFbLdHNzo7",
        "colab_type": "code",
        "colab": {}
      },
      "source": [
        "model.compile(optimizer = \"adam\", loss = \"categorical_crossentropy\", metrics=[\"accuracy\"])\n",
        "epochs = 50\n",
        "batch_size = 1000\n",
        "\n",
        "datagen = ImageDataGenerator(\n",
        "        featurewise_center=False,  # set input mean to 0 over the dataset\n",
        "        samplewise_center=False,  # set each sample mean to 0\n",
        "        featurewise_std_normalization=False,  # divide inputs by std of the dataset\n",
        "        samplewise_std_normalization=False,  # divide each input by its std\n",
        "        zca_whitening=False,  # dimesion reduction\n",
        "        rotation_range=0.1,  # randomly rotate images in the range\n",
        "        zoom_range = 0.1, # Randomly zoom image\n",
        "        width_shift_range=0.1,  # randomly shift images horizontally\n",
        "        height_shift_range=0.1,  # randomly shift images vertically\n",
        "        horizontal_flip=False,  # randomly flip images\n",
        "        vertical_flip=False)  # randomly flip images\n",
        "\n",
        "datagen.fit(x_train)"
      ],
      "execution_count": 0,
      "outputs": []
    },
    {
      "cell_type": "code",
      "metadata": {
        "id": "z-cmxLXpN0um",
        "colab_type": "code",
        "colab": {
          "base_uri": "https://localhost:8080/",
          "height": 1000
        },
        "outputId": "7aa8c762-1622-4569-ac86-a0b69efba4c8"
      },
      "source": [
        "history = model.fit_generator(datagen.flow(x_train, y_train, batch_size=batch_size),\n",
        "                              shuffle=True, epochs=epochs, validation_data = (x_val, y_val),\n",
        "                              verbose = 2, steps_per_epoch=x_train.shape[0] // batch_size)"
      ],
      "execution_count": 13,
      "outputs": [
        {
          "output_type": "stream",
          "text": [
            "Epoch 1/50\n",
            " - 107s - loss: 0.6912 - accuracy: 0.7495 - val_loss: 2.4071 - val_accuracy: 0.1188\n",
            "Epoch 2/50\n",
            " - 104s - loss: 0.4505 - accuracy: 0.8359 - val_loss: 2.5665 - val_accuracy: 0.1147\n",
            "Epoch 3/50\n",
            " - 104s - loss: 0.3939 - accuracy: 0.8537 - val_loss: 2.5302 - val_accuracy: 0.2257\n",
            "Epoch 4/50\n",
            " - 104s - loss: 0.3595 - accuracy: 0.8672 - val_loss: 2.1537 - val_accuracy: 0.4373\n",
            "Epoch 5/50\n",
            " - 104s - loss: 0.3453 - accuracy: 0.8709 - val_loss: 1.9885 - val_accuracy: 0.4873\n",
            "Epoch 6/50\n",
            " - 104s - loss: 0.3264 - accuracy: 0.8789 - val_loss: 1.4059 - val_accuracy: 0.5640\n",
            "Epoch 7/50\n",
            " - 103s - loss: 0.3151 - accuracy: 0.8844 - val_loss: 1.0895 - val_accuracy: 0.6357\n",
            "Epoch 8/50\n",
            " - 104s - loss: 0.3021 - accuracy: 0.8882 - val_loss: 0.6427 - val_accuracy: 0.7793\n",
            "Epoch 9/50\n",
            " - 104s - loss: 0.2978 - accuracy: 0.8893 - val_loss: 0.4084 - val_accuracy: 0.8635\n",
            "Epoch 10/50\n",
            " - 104s - loss: 0.2900 - accuracy: 0.8926 - val_loss: 0.2893 - val_accuracy: 0.9033\n",
            "Epoch 11/50\n",
            " - 104s - loss: 0.2780 - accuracy: 0.8961 - val_loss: 0.4554 - val_accuracy: 0.8422\n",
            "Epoch 12/50\n",
            " - 104s - loss: 0.2764 - accuracy: 0.8965 - val_loss: 0.2969 - val_accuracy: 0.8920\n",
            "Epoch 13/50\n",
            " - 104s - loss: 0.2719 - accuracy: 0.8985 - val_loss: 0.3190 - val_accuracy: 0.8807\n",
            "Epoch 14/50\n",
            " - 104s - loss: 0.2657 - accuracy: 0.9000 - val_loss: 0.2893 - val_accuracy: 0.8922\n",
            "Epoch 15/50\n",
            " - 104s - loss: 0.2562 - accuracy: 0.9047 - val_loss: 0.2853 - val_accuracy: 0.8953\n",
            "Epoch 16/50\n",
            " - 104s - loss: 0.2553 - accuracy: 0.9052 - val_loss: 0.2748 - val_accuracy: 0.8980\n",
            "Epoch 17/50\n",
            " - 104s - loss: 0.2498 - accuracy: 0.9059 - val_loss: 0.2521 - val_accuracy: 0.9105\n",
            "Epoch 18/50\n",
            " - 104s - loss: 0.2490 - accuracy: 0.9061 - val_loss: 0.2556 - val_accuracy: 0.9088\n",
            "Epoch 19/50\n",
            " - 104s - loss: 0.2395 - accuracy: 0.9093 - val_loss: 0.2597 - val_accuracy: 0.9018\n",
            "Epoch 20/50\n",
            " - 104s - loss: 0.2421 - accuracy: 0.9098 - val_loss: 0.2692 - val_accuracy: 0.9033\n",
            "Epoch 21/50\n",
            " - 104s - loss: 0.2382 - accuracy: 0.9111 - val_loss: 0.2407 - val_accuracy: 0.9158\n",
            "Epoch 22/50\n",
            " - 104s - loss: 0.2377 - accuracy: 0.9105 - val_loss: 0.3038 - val_accuracy: 0.8865\n",
            "Epoch 23/50\n",
            " - 104s - loss: 0.2339 - accuracy: 0.9126 - val_loss: 0.2412 - val_accuracy: 0.9115\n",
            "Epoch 24/50\n",
            " - 104s - loss: 0.2303 - accuracy: 0.9154 - val_loss: 0.2440 - val_accuracy: 0.9127\n",
            "Epoch 25/50\n",
            " - 104s - loss: 0.2254 - accuracy: 0.9154 - val_loss: 0.3088 - val_accuracy: 0.8792\n",
            "Epoch 26/50\n",
            " - 104s - loss: 0.2256 - accuracy: 0.9157 - val_loss: 0.2508 - val_accuracy: 0.9068\n",
            "Epoch 27/50\n",
            " - 104s - loss: 0.2184 - accuracy: 0.9181 - val_loss: 0.3161 - val_accuracy: 0.8777\n",
            "Epoch 28/50\n",
            " - 104s - loss: 0.2155 - accuracy: 0.9197 - val_loss: 0.2646 - val_accuracy: 0.9007\n",
            "Epoch 29/50\n",
            " - 104s - loss: 0.2173 - accuracy: 0.9184 - val_loss: 0.4149 - val_accuracy: 0.8355\n",
            "Epoch 30/50\n",
            " - 103s - loss: 0.2153 - accuracy: 0.9201 - val_loss: 0.2807 - val_accuracy: 0.8932\n",
            "Epoch 31/50\n",
            " - 105s - loss: 0.2138 - accuracy: 0.9206 - val_loss: 0.3113 - val_accuracy: 0.8833\n",
            "Epoch 32/50\n",
            " - 104s - loss: 0.2116 - accuracy: 0.9212 - val_loss: 0.3379 - val_accuracy: 0.8737\n",
            "Epoch 33/50\n",
            " - 104s - loss: 0.2098 - accuracy: 0.9216 - val_loss: 0.3230 - val_accuracy: 0.8755\n",
            "Epoch 34/50\n",
            " - 104s - loss: 0.2070 - accuracy: 0.9245 - val_loss: 0.2407 - val_accuracy: 0.9143\n",
            "Epoch 35/50\n",
            " - 104s - loss: 0.2020 - accuracy: 0.9256 - val_loss: 0.3140 - val_accuracy: 0.8847\n",
            "Epoch 36/50\n",
            " - 104s - loss: 0.2035 - accuracy: 0.9229 - val_loss: 0.2466 - val_accuracy: 0.9115\n",
            "Epoch 37/50\n",
            " - 106s - loss: 0.2005 - accuracy: 0.9252 - val_loss: 0.3210 - val_accuracy: 0.8903\n",
            "Epoch 38/50\n",
            " - 106s - loss: 0.2002 - accuracy: 0.9244 - val_loss: 0.3779 - val_accuracy: 0.8810\n",
            "Epoch 39/50\n",
            " - 121s - loss: 0.1983 - accuracy: 0.9253 - val_loss: 0.2499 - val_accuracy: 0.9102\n",
            "Epoch 40/50\n",
            " - 116s - loss: 0.1963 - accuracy: 0.9273 - val_loss: 0.2821 - val_accuracy: 0.9030\n",
            "Epoch 41/50\n",
            " - 111s - loss: 0.1942 - accuracy: 0.9271 - val_loss: 0.2468 - val_accuracy: 0.9102\n",
            "Epoch 42/50\n",
            " - 111s - loss: 0.1949 - accuracy: 0.9276 - val_loss: 0.2973 - val_accuracy: 0.8890\n",
            "Epoch 43/50\n",
            " - 104s - loss: 0.1939 - accuracy: 0.9275 - val_loss: 0.2979 - val_accuracy: 0.9015\n",
            "Epoch 44/50\n",
            " - 104s - loss: 0.1931 - accuracy: 0.9279 - val_loss: 0.2673 - val_accuracy: 0.9050\n",
            "Epoch 45/50\n",
            " - 105s - loss: 0.1884 - accuracy: 0.9297 - val_loss: 0.5722 - val_accuracy: 0.7760\n",
            "Epoch 46/50\n",
            " - 108s - loss: 0.1855 - accuracy: 0.9319 - val_loss: 0.4951 - val_accuracy: 0.8057\n",
            "Epoch 47/50\n",
            " - 107s - loss: 0.1854 - accuracy: 0.9319 - val_loss: 0.2997 - val_accuracy: 0.8903\n",
            "Epoch 48/50\n",
            " - 104s - loss: 0.1818 - accuracy: 0.9313 - val_loss: 0.4141 - val_accuracy: 0.8520\n",
            "Epoch 49/50\n",
            " - 105s - loss: 0.1853 - accuracy: 0.9310 - val_loss: 0.4088 - val_accuracy: 0.8443\n",
            "Epoch 50/50\n",
            " - 104s - loss: 0.1829 - accuracy: 0.9334 - val_loss: 0.3745 - val_accuracy: 0.8590\n"
          ],
          "name": "stdout"
        }
      ]
    },
    {
      "cell_type": "markdown",
      "metadata": {
        "id": "FwNv1MA33uk4",
        "colab_type": "text"
      },
      "source": [
        "To see the performance of our model and check for possible hints of overfitting, we're going to use the function below. The function plots relevant aspects of the history object returned from model.fit()."
      ]
    },
    {
      "cell_type": "code",
      "metadata": {
        "id": "6j9e_84mkuPo",
        "colab_type": "code",
        "colab": {}
      },
      "source": [
        "def plot_history(history):\n",
        "    acc = history.history['accuracy']\n",
        "    val_acc = history.history['val_accuracy']\n",
        "    loss = history.history['loss']\n",
        "    val_loss = history.history['val_loss']\n",
        "    x = range(1, len(acc) + 1)\n",
        "\n",
        "    plt.figure(figsize=(12, 5))\n",
        "    plt.subplot(1, 2, 1)\n",
        "    plt.plot(x, acc, 'b', label='Training acc')\n",
        "    plt.plot(x, val_acc, 'r', label='Validation acc')\n",
        "    plt.title('Training and validation accuracy')\n",
        "    plt.legend()\n",
        "    plt.subplot(1, 2, 2)\n",
        "    plt.plot(x, loss, 'b', label='Training loss')\n",
        "    plt.plot(x, val_loss, 'r', label='Validation loss')\n",
        "    plt.title('Training and validation loss')\n",
        "    plt.legend()\n",
        "    plt.show()"
      ],
      "execution_count": 0,
      "outputs": []
    },
    {
      "cell_type": "code",
      "metadata": {
        "id": "ntkqxKV1nLk6",
        "colab_type": "code",
        "colab": {
          "base_uri": "https://localhost:8080/",
          "height": 336
        },
        "outputId": "a0ef7b5d-9266-4d90-b65a-c1a138036a8d"
      },
      "source": [
        "plot_history(history)"
      ],
      "execution_count": 17,
      "outputs": [
        {
          "output_type": "display_data",
          "data": {
            "image/png": "[encoded data removed]",
            "text/plain": [
              "<Figure size 864x360 with 2 Axes>"
            ]
          },
          "metadata": {
            "tags": [],
            "needs_background": "light"
          }
        }
      ]
    },
    {
      "cell_type": "markdown",
      "metadata": {
        "id": "tSTHeogD34fg",
        "colab_type": "text"
      },
      "source": [
        "There seem to be no signs of overfitting, and our accuracy seems to be fairly high. We're going to leave the model as it is for now. As the training of the model took a considerable amount of time, this isn't a step we'd like to repeat again. Thus, we're going to save the model and then afterwards load it when we want to make predictions."
      ]
    },
    {
      "cell_type": "code",
      "metadata": {
        "id": "ERUEtqdRntQB",
        "colab_type": "code",
        "colab": {
          "base_uri": "https://localhost:8080/",
          "height": 34
        },
        "outputId": "571b31d6-42df-4c42-e7a4-acb79f10f118"
      },
      "source": [
        "model.save('/content/model_saved.h5') #Save the model\n",
        "\n",
        "from keras.models import load_model\n",
        "model = load_model('/content/model_saved.h5')\n",
        "\n",
        "trueY = y_test[101]\n",
        "img = X_test[101]\n",
        "test_img = img.reshape(1,28,28,1)\n",
        "preds = model.predict_classes(test_img)\n",
        "print(\"Preds: \",preds)"
      ],
      "execution_count": 21,
      "outputs": [
        {
          "output_type": "stream",
          "text": [
            "Preds:  [6]\n"
          ],
          "name": "stdout"
        }
      ]
    }
  ]
}